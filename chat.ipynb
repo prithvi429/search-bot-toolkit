{
 "cells": [
  {
   "cell_type": "code",
   "execution_count": null,
   "id": "ecb1e43c",
   "metadata": {},
   "outputs": [],
   "source": [
    "## tools\n",
    "from langchain_community.tools import ArxivQueryRun,WikipediaQueryRun\n",
    "from langchain_community.utilities import WikipediaAPIWrapper\n",
    "from langchain_community.utilities.arxiv import ArxivAPIWrapper\n"
   ]
  },
  {
   "cell_type": "code",
   "execution_count": 7,
   "id": "f49af447",
   "metadata": {},
   "outputs": [
    {
     "name": "stdout",
     "output_type": "stream",
     "text": [
      "<bound method BaseTool.run of ArxivQueryRun(description='Query arxiv papers', api_wrapper=ArxivAPIWrapper(arxiv_search=<class 'arxiv.Search'>, arxiv_exceptions=(<class 'arxiv.ArxivError'>, <class 'arxiv.UnexpectedEmptyPageError'>, <class 'arxiv.HTTPError'>), top_k_results=2, ARXIV_MAX_QUERY_LENGTH=300, continue_on_failure=False, load_max_docs=100, load_all_available_meta=False, doc_content_chars_max=500))>\n"
     ]
    }
   ],
   "source": [
    "api_wrapper_arxiv = ArxivAPIWrapper(top_k_results=2, doc_content_chars_max=500)\n",
    "arxiv = ArxivQueryRun(api_wrapper=api_wrapper_arxiv, description=\"Query arxiv papers\")\n",
    "print(arxiv.run)\n"
   ]
  },
  {
   "cell_type": "code",
   "execution_count": 8,
   "id": "d9837f02",
   "metadata": {},
   "outputs": [
    {
     "data": {
      "text/plain": [
       "\"Published: 2025-04-02\\nTitle: What is AI, what is it not, how we use it in physics and how it impacts... you\\nAuthors: Claire David\\nSummary: Artificial Intelligence (AI) and Machine Learning (ML) have been prevalent in\\nparticle physics for over three decades, shaping many aspects of High Energy\\nPhysics (HEP) analyses. As AI's influence grows, it is essential for physicists\\n$\\\\unicode{x2013}$ as both researchers and informed citizens $\\\\unicode{x2013}$\\nto critically examine its foundations, misconcep\""
      ]
     },
     "execution_count": 8,
     "metadata": {},
     "output_type": "execute_result"
    }
   ],
   "source": [
    "arxiv.invoke(\"what is the latest research on angentic ai\")"
   ]
  },
  {
   "cell_type": "code",
   "execution_count": 14,
   "id": "32b089a7",
   "metadata": {},
   "outputs": [
    {
     "data": {
      "text/plain": [
       "'wikipedia'"
      ]
     },
     "execution_count": 14,
     "metadata": {},
     "output_type": "execute_result"
    }
   ],
   "source": [
    "api_wrapper_wiki = WikipediaAPIWrapper(top_k_results=2, doc_content_chars_max=500)\n",
    "Wiki = WikipediaQueryRun(api_wrapper=api_wrapper_wiki)\n",
    "Wiki.name"
   ]
  },
  {
   "cell_type": "code",
   "execution_count": 28,
   "id": "51d17b87",
   "metadata": {},
   "outputs": [],
   "source": [
    "from dotenv import load_dotenv\n",
    "load_dotenv()\n",
    "\n",
    "\n",
    "import os\n",
    "\n",
    "os.environ['GROQ_API_KEY']=os.getenv(\"GROQ_API_KEY\")\n",
    "os.environ['TAVILY_API_KEY']=os.getenv(\"TAVILY_API_KEY\")\n"
   ]
  },
  {
   "cell_type": "code",
   "execution_count": null,
   "id": "d364c9ca",
   "metadata": {},
   "outputs": [],
   "source": []
  }
 ],
 "metadata": {
  "kernelspec": {
   "display_name": "Python 3",
   "language": "python",
   "name": "python3"
  },
  "language_info": {
   "codemirror_mode": {
    "name": "ipython",
    "version": 3
   },
   "file_extension": ".py",
   "mimetype": "text/x-python",
   "name": "python",
   "nbconvert_exporter": "python",
   "pygments_lexer": "ipython3",
   "version": "3.9.0"
  }
 },
 "nbformat": 4,
 "nbformat_minor": 5
}
